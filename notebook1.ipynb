{
 "cells": [
  {
   "cell_type": "markdown",
   "id": "bdebd7b3",
   "metadata": {},
   "source": [
    "# Jupyter Notebook"
   ]
  },
  {
   "cell_type": "code",
   "execution_count": null,
   "id": "0a2256e8",
   "metadata": {},
   "outputs": [],
   "source": [
    "import ipywidgets as widgets\n",
    "import numpy as np\n",
    "import pandas as pd\n",
    "\n",
    "from IPython.display import display\n",
    "\n",
    "\n",
    "tab = widgets.Tab()\n",
    "\n",
    "descr_str = \"Hello\"\n",
    "\n",
    "title = widgets.HTML(descr_str)\n",
    "\n",
    "# create output widgets\n",
    "widget_images = widgets.Output()\n",
    "widget_annotations = widgets.Output()\n",
    "\n",
    "# render in output widgets\n",
    "with widget_images:\n",
    "    display(pd.DataFrame(np.random.randn(10, 10)))\n",
    "with widget_annotations:\n",
    "    display(pd.DataFrame(np.random.randn(10, 10)))\n",
    "\n",
    "tab.children = [widget_images, widget_annotations]\n",
    "tab.titles = [\"Images\", \"Annotations\"]\n",
    "\n",
    "widgets.VBox([title, tab])"
   ]
  },
  {
   "cell_type": "code",
   "execution_count": null,
   "id": "c24551b0",
   "metadata": {},
   "outputs": [],
   "source": [
    "from ipyleaflet import Map, basemaps\n",
    "\n",
    "\n",
    "# display a map centered on France\n",
    "m = Map(basemap=basemaps.Esri.WorldImagery, zoom=5, center=[46.21, 2.21])\n",
    "m"
   ]
  }
 ],
 "metadata": {
  "kernelspec": {
   "display_name": "Python 3",
   "language": "python",
   "name": "python3"
  }
 },
 "nbformat": 4,
 "nbformat_minor": 5
}
